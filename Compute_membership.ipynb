{
 "cells": [
  {
   "cell_type": "code",
   "execution_count": 1,
   "metadata": {},
   "outputs": [
    {
     "name": "stdout",
     "output_type": "stream",
     "text": [
      "1.11.0\n"
     ]
    }
   ],
   "source": [
    "import tensorflow as tf\n",
    "from tensorflow import keras\n",
    "import pandas as pd\n",
    "from tensorflow.keras import regularizers\n",
    "from tensorflow.keras.layers import BatchNormalization\n",
    "import itertools\n",
    "from sklearn.metrics import confusion_matrix\n",
    "import matplotlib.pyplot as plt\n",
    "from sklearn.metrics import confusion_matrix\n",
    "import itertools\n",
    "from pathlib import Path\n",
    "from sklearn.model_selection import train_test_split\n",
    "\n",
    "print(tf.__version__)\n",
    "import numpy as np"
   ]
  },
  {
   "cell_type": "markdown",
   "metadata": {},
   "source": [
    "# Functions"
   ]
  },
  {
   "cell_type": "code",
   "execution_count": 2,
   "metadata": {},
   "outputs": [],
   "source": [
    "def read_data(path):\n",
    "    file_path = path\n",
    "    data = pd.read_csv(file_path)\n",
    "    colnames = list(data['Unnamed: 0'])\n",
    "    data = data.T\n",
    "    data.columns =  colnames\n",
    "    data = data.drop(axis=0, labels='Unnamed: 0')\n",
    "    return data"
   ]
  },
  {
   "cell_type": "code",
   "execution_count": 3,
   "metadata": {},
   "outputs": [],
   "source": [
    "def read_labels(path, select_cl):\n",
    "    file_path = path\n",
    "    labels = pd.read_csv(file_path)\n",
    "    labels.index = list(labels['Unnamed: 0'])\n",
    "    labels = labels.drop(axis=1, labels='Unnamed: 0')\n",
    "    new_factors = np.arange(len(select_cl)).tolist()\n",
    "    cls = select_cl\n",
    "    refactor_cls = []\n",
    "    for items in labels.cl:\n",
    "        if items in cls: \n",
    "            index = cls.index(items)\n",
    "            refactor_cls = refactor_cls + [new_factors[index]]\n",
    "        else:\n",
    "            refactor_cls = refactor_cls + [np.nan]\n",
    "    labels[\"old_factor_cl\"] = labels[\"factor_cl\"]\n",
    "    labels[\"factor_cl\"] = refactor_cls \n",
    "    return labels"
   ]
  },
  {
   "cell_type": "code",
   "execution_count": 4,
   "metadata": {},
   "outputs": [],
   "source": [
    "def split_data_intwo(data, labels, test_size, cvset):\n",
    "    train_data, test_data, train_labels, test_labels = train_test_split(data, labels, \n",
    "                                                                        test_size = test_size, random_state = cvset)\n",
    "    return train_data, test_data, train_labels, test_labels"
   ]
  },
  {
   "cell_type": "markdown",
   "metadata": {},
   "source": [
    "# Read the data"
   ]
  },
  {
   "cell_type": "code",
   "execution_count": 5,
   "metadata": {},
   "outputs": [],
   "source": [
    "my_computer_folder = \"/Volumes/programs/celltypes/workgroups/rnaseqanalysis//Fahimehb/patchseq-work-dir/Patchseq_vs_FACs_cre_analysis/mouse_patchseq_VISp_20181220_collapsed40_cpm/\"\n",
    "#my_computer_folder = \"/Users/fahimehb/Documents/Transcriptomic/DATA/\"\n",
    "models_folder = \"/Keras_models/1000ephocs_10_500batch/\"\n",
    "results_folder = \"Final_matrices\"\n"
   ]
  },
  {
   "cell_type": "code",
   "execution_count": null,
   "metadata": {},
   "outputs": [],
   "source": [
    "V1_cl = pd.read_csv(my_computer_folder + \"select_cl.csv\")['x'].tolist()\n",
    "FACs_data = read_data(my_computer_folder + \"FACs_norm.csv\")\n",
    "FACs_labels = read_labels(my_computer_folder + \"FACs_correct_labels.csv\", V1_cl)\n",
    "FACs_cells = FACs_data.index.tolist() \n",
    "FACs_labels = FACs_labels['factor_cl']\n",
    "\n",
    "path = my_computer_folder + \"patchseq_norm.csv\"\n",
    "Patchseq_data = read_data(path)\n",
    "path = my_computer_folder + \"patchseq_correct_labels.csv\"\n",
    "Patchseq_labels = read_labels(path, V1_cl)\n",
    "patchseq_cells = Patchseq_data.index.tolist() "
   ]
  },
  {
   "cell_type": "code",
   "execution_count": 17,
   "metadata": {
    "scrolled": true
   },
   "outputs": [
    {
     "name": "stdout",
     "output_type": "stream",
     "text": [
      "1000epochs_batch500_ri_1.h5\n",
      "1000epochs_batch500_ri_2.h5\n",
      "1000epochs_batch500_ri_3.h5\n",
      "1000epochs_batch500_ri_4.h5\n",
      "1000epochs_batch500_ri_5.h5\n",
      "1000epochs_batch500_ri_6.h5\n",
      "1000epochs_batch500_ri_7.h5\n",
      "1000epochs_batch500_ri_8.h5\n",
      "1000epochs_batch500_ri_9.h5\n",
      "1000epochs_batch500_ri_10.h5\n",
      "1000epochs_batch500_ri_11.h5\n",
      "1000epochs_batch500_ri_12.h5\n",
      "1000epochs_batch500_ri_13.h5\n",
      "1000epochs_batch500_ri_14.h5\n",
      "1000epochs_batch500_ri_15.h5\n",
      "1000epochs_batch500_ri_16.h5\n",
      "1000epochs_batch500_ri_17.h5\n",
      "1000epochs_batch500_ri_18.h5\n",
      "1000epochs_batch500_ri_19.h5\n",
      "1000epochs_batch500_ri_20.h5\n",
      "1000epochs_batch500_ri_21.h5\n",
      "1000epochs_batch500_ri_22.h5\n",
      "1000epochs_batch500_ri_23.h5\n",
      "1000epochs_batch500_ri_24.h5\n",
      "1000epochs_batch500_ri_25.h5\n",
      "1000epochs_batch500_ri_26.h5\n",
      "1000epochs_batch500_ri_27.h5\n",
      "1000epochs_batch500_ri_28.h5\n",
      "1000epochs_batch500_ri_29.h5\n",
      "1000epochs_batch500_ri_30.h5\n",
      "1000epochs_batch500_ri_31.h5\n",
      "1000epochs_batch500_ri_32.h5\n",
      "1000epochs_batch500_ri_33.h5\n",
      "1000epochs_batch500_ri_34.h5\n",
      "1000epochs_batch500_ri_35.h5\n",
      "1000epochs_batch500_ri_36.h5\n",
      "1000epochs_batch500_ri_37.h5\n",
      "1000epochs_batch500_ri_38.h5\n",
      "1000epochs_batch500_ri_39.h5\n",
      "1000epochs_batch500_ri_40.h5\n",
      "1000epochs_batch500_ri_41.h5\n",
      "1000epochs_batch500_ri_42.h5\n",
      "1000epochs_batch500_ri_43.h5\n",
      "1000epochs_batch500_ri_44.h5\n",
      "1000epochs_batch500_ri_45.h5\n",
      "1000epochs_batch500_ri_46.h5\n",
      "1000epochs_batch500_ri_47.h5\n",
      "1000epochs_batch500_ri_48.h5\n",
      "1000epochs_batch500_ri_49.h5\n",
      "1000epochs_batch500_ri_50.h5\n",
      "1000epochs_batch500_ri_51.h5\n",
      "1000epochs_batch500_ri_52.h5\n",
      "1000epochs_batch500_ri_53.h5\n",
      "1000epochs_batch500_ri_54.h5\n",
      "1000epochs_batch500_ri_55.h5\n",
      "1000epochs_batch500_ri_56.h5\n",
      "1000epochs_batch500_ri_57.h5\n",
      "1000epochs_batch500_ri_58.h5\n",
      "1000epochs_batch500_ri_59.h5\n",
      "1000epochs_batch500_ri_60.h5\n",
      "1000epochs_batch500_ri_61.h5\n",
      "1000epochs_batch500_ri_62.h5\n",
      "1000epochs_batch500_ri_63.h5\n",
      "1000epochs_batch500_ri_64.h5\n",
      "1000epochs_batch500_ri_65.h5\n",
      "1000epochs_batch500_ri_66.h5\n",
      "1000epochs_batch500_ri_67.h5\n",
      "1000epochs_batch500_ri_68.h5\n",
      "1000epochs_batch500_ri_69.h5\n",
      "1000epochs_batch500_ri_70.h5\n",
      "1000epochs_batch500_ri_71.h5\n",
      "1000epochs_batch500_ri_72.h5\n",
      "1000epochs_batch500_ri_73.h5\n",
      "1000epochs_batch500_ri_74.h5\n",
      "1000epochs_batch500_ri_75.h5\n",
      "1000epochs_batch500_ri_76.h5\n",
      "1000epochs_batch500_ri_77.h5\n",
      "1000epochs_batch500_ri_78.h5\n",
      "1000epochs_batch500_ri_79.h5\n",
      "1000epochs_batch500_ri_80.h5\n",
      "1000epochs_batch500_ri_81.h5\n",
      "1000epochs_batch500_ri_82.h5\n",
      "1000epochs_batch500_ri_83.h5\n",
      "1000epochs_batch500_ri_84.h5\n",
      "1000epochs_batch500_ri_85.h5\n",
      "1000epochs_batch500_ri_86.h5\n",
      "1000epochs_batch500_ri_87.h5\n",
      "1000epochs_batch500_ri_88.h5\n",
      "1000epochs_batch500_ri_89.h5\n",
      "1000epochs_batch500_ri_90.h5\n",
      "1000epochs_batch500_ri_91.h5\n",
      "1000epochs_batch500_ri_92.h5\n",
      "1000epochs_batch500_ri_93.h5\n",
      "1000epochs_batch500_ri_94.h5\n",
      "1000epochs_batch500_ri_95.h5\n",
      "1000epochs_batch500_ri_96.h5\n",
      "1000epochs_batch500_ri_97.h5\n",
      "1000epochs_batch500_ri_98.h5\n",
      "1000epochs_batch500_ri_99.h5\n",
      "1000epochs_batch500_ri_100.h5\n"
     ]
    }
   ],
   "source": [
    "FACs_membership = pd.DataFrame(0, index=FACs_cells, columns=V1_cl)\n",
    "Patchseq_membership = pd.DataFrame(0, index=patchseq_cells, columns=V1_cl)\n",
    "\n",
    "for run_id in range(100):\n",
    "    model_name = \"1000epochs_batch500_ri_\" + str(run_id+1) + \".h5\"\n",
    "    facs_prediction_file = \"facs_membership_\" + str(run_id+1) + \".csv\"\n",
    "    print(model_name)\n",
    "    \n",
    "    model = keras.models.load_model(my_computer_folder + models_folder + model_name)\n",
    "\n",
    "    facs_memb = pd.read_csv(my_computer_folder + models_folder + facs_prediction_file, index_col=0)\n",
    "    FACs_membership = FACs_membership + facs_memb.loc[FACs_cells][V1_cl]\n",
    "    patchseq_memb = model.predict(Patchseq_data)\n",
    "    patchseq_memb = pd.DataFrame(patchseq_memb, index= patchseq_cells, columns=V1_cl)\n",
    "    Patchseq_membership.loc[patchseq_cells] = Patchseq_membership.loc[patchseq_cells] + patchseq_memb.loc[patchseq_cells]\n"
   ]
  },
  {
   "cell_type": "code",
   "execution_count": 18,
   "metadata": {
    "scrolled": true
   },
   "outputs": [
    {
     "data": {
      "text/plain": [
       "LS-14690_S02_E1-50     13.000000\n",
       "LS-14690_S03_E1-50     11.000000\n",
       "LS-14690_S05_E1-50     13.000001\n",
       "LS-14690_S06_E1-50     12.000000\n",
       "LS-14690_S07_E1-50     11.000001\n",
       "LS-14690_S08_E1-50     11.000000\n",
       "LS-14690_S09_E1-50     10.000001\n",
       "LS-14690_S10_E1-50      8.000000\n",
       "LS-14690_S11_E1-50     10.000001\n",
       "LS-14690_S12_E1-50     10.000000\n",
       "LS-14690_S13_E1-50     10.000001\n",
       "LS-14690_S14_E1-50     12.000000\n",
       "LS-14690_S15_E1-50      6.000000\n",
       "LS-14690_S16_E1-50     14.000000\n",
       "LS-14690_S17_E1-50     12.000001\n",
       "LS-14690_S18_E1-50     11.000000\n",
       "LS-14690_S19_E1-50     12.000000\n",
       "LS-14690_S20_E1-50      6.000001\n",
       "LS-14690_S21_E1-50     14.000000\n",
       "LS-14690_S22_E1-50     10.000000\n",
       "LS-14690_S23_E1-50     10.000000\n",
       "LS-14690_S24_E1-50     11.000001\n",
       "LS-14690_S25_E1-50     15.000000\n",
       "LS-14690_S26_E1-50      9.000000\n",
       "LS-14690_S28_E1-50     11.000000\n",
       "LS-14690_S29_E1-50     13.000000\n",
       "LS-14690_S30_E1-50      5.000000\n",
       "LS-14690_S31_E1-50      9.000000\n",
       "LS-14690_S32_E1-50      9.000000\n",
       "LS-14690_S33_E1-50     12.000001\n",
       "                         ...    \n",
       "SM-GE91H_S354_E1-50    10.000001\n",
       "SM-GE91H_S355_E1-50    10.000001\n",
       "SM-GE91H_S356_E1-50     7.000001\n",
       "SM-GE91H_S357_E1-50    15.000000\n",
       "SM-GE91H_S358_E1-50    13.000001\n",
       "SM-GE91H_S359_E1-50     8.000001\n",
       "SM-GE91H_S360_E1-50     4.000000\n",
       "SM-GE91H_S361_E1-50    12.000001\n",
       "SM-GE91H_S362_E1-50     6.000001\n",
       "SM-GE91H_S363_E1-50    10.000000\n",
       "SM-GE91H_S364_E1-50    17.000002\n",
       "SM-GE91H_S365_E1-50    12.000001\n",
       "SM-GE91H_S366_E1-50    11.000001\n",
       "SM-GE91H_S367_E1-50     9.000001\n",
       "SM-GE91H_S368_E1-50    14.000001\n",
       "SQ-80001_S04_E1-50      9.000000\n",
       "SQ-80001_S10_E1-50      5.000000\n",
       "SQ-80001_S11_E1-50     13.000001\n",
       "SQ-80001_S12_E1-50     13.000000\n",
       "SQ-80001_S13_E1-50     14.000001\n",
       "SQ-80001_S15_E1-50     13.000000\n",
       "SQ-80001_S16_E1-50     13.000001\n",
       "SQ-80001_S26_E1-50     11.000000\n",
       "SQ-80001_S32_E1-50      8.000000\n",
       "SQ-80004_S36_E1-50     11.000001\n",
       "SQ-80004_S37_E1-50     14.000001\n",
       "SQ-80004_S40_E1-50      8.000000\n",
       "SQ-80004_S41_E1-50     14.000000\n",
       "SQ-80004_S44_E1-50     10.000000\n",
       "SQ-80004_S48_E1-50     12.000002\n",
       "Length: 13464, dtype: float64"
      ]
     },
     "execution_count": 18,
     "metadata": {},
     "output_type": "execute_result"
    }
   ],
   "source": [
    "FACs_membership.sum(axis=1)"
   ]
  },
  {
   "cell_type": "code",
   "execution_count": 19,
   "metadata": {},
   "outputs": [],
   "source": [
    "temp = FACs_membership/FACs_membership.sum(axis=1)[:,None]\n",
    "temp.to_csv(my_computer_folder + results_folder + \"/NN_10_1000ephocs_500batch_FACs_membership.csv\")"
   ]
  },
  {
   "cell_type": "code",
   "execution_count": 20,
   "metadata": {},
   "outputs": [],
   "source": [
    "temp = Patchseq_membership/Patchseq_membership.sum(axis=1)[:,None]\n",
    "temp.to_csv(my_computer_folder +  results_folder + \"/NN_10_1000ephocs_500batch__patchseq_membership.csv\")"
   ]
  },
  {
   "cell_type": "code",
   "execution_count": 14,
   "metadata": {},
   "outputs": [
    {
     "data": {
      "text/plain": [
       "'/Volumes/programs/celltypes/workgroups/rnaseqanalysis/Fahimehb/patchseq-work-dir/Patchseq_vs_FACs_cre_analysis/mouse_patchseq_VISp_20181220_collapsed40_cpm/Final_matrices'"
      ]
     },
     "execution_count": 14,
     "metadata": {},
     "output_type": "execute_result"
    }
   ],
   "source": [
    "my_computer_folder + results_folder "
   ]
  },
  {
   "cell_type": "code",
   "execution_count": null,
   "metadata": {},
   "outputs": [],
   "source": []
  }
 ],
 "metadata": {
  "kernelspec": {
   "display_name": "Python 3",
   "language": "python",
   "name": "python3"
  },
  "language_info": {
   "codemirror_mode": {
    "name": "ipython",
    "version": 3
   },
   "file_extension": ".py",
   "mimetype": "text/x-python",
   "name": "python",
   "nbconvert_exporter": "python",
   "pygments_lexer": "ipython3",
   "version": "3.6.8"
  }
 },
 "nbformat": 4,
 "nbformat_minor": 2
}
